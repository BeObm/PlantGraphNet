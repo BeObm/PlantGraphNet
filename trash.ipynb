{
 "cells": [
  {
   "cell_type": "code",
   "execution_count": null,
   "id": "4608a8e8",
   "metadata": {},
   "outputs": [],
   "source": [
    "a=[1,2,3]\n",
    "b=a+[8]"
   ]
  },
  {
   "cell_type": "code",
   "execution_count": 7,
   "id": "4b699b6d",
   "metadata": {},
   "outputs": [
    {
     "name": "stdout",
     "output_type": "stream",
     "text": [
      "Requirement already satisfied: scikit-image in c:\\users\\au783153\\appdata\\local\\miniconda3\\envs\\plante\\lib\\site-packages (0.25.2)\n",
      "Requirement already satisfied: numpy>=1.24 in c:\\users\\au783153\\appdata\\local\\miniconda3\\envs\\plante\\lib\\site-packages (from scikit-image) (1.26.4)\n",
      "Requirement already satisfied: scipy>=1.11.4 in c:\\users\\au783153\\appdata\\local\\miniconda3\\envs\\plante\\lib\\site-packages (from scikit-image) (1.15.2)\n",
      "Requirement already satisfied: networkx>=3.0 in c:\\users\\au783153\\appdata\\local\\miniconda3\\envs\\plante\\lib\\site-packages (from scikit-image) (3.4.2)\n",
      "Requirement already satisfied: pillow>=10.1 in c:\\users\\au783153\\appdata\\local\\miniconda3\\envs\\plante\\lib\\site-packages (from scikit-image) (11.1.0)\n",
      "Requirement already satisfied: imageio!=2.35.0,>=2.33 in c:\\users\\au783153\\appdata\\local\\miniconda3\\envs\\plante\\lib\\site-packages (from scikit-image) (2.37.0)\n",
      "Requirement already satisfied: tifffile>=2022.8.12 in c:\\users\\au783153\\appdata\\local\\miniconda3\\envs\\plante\\lib\\site-packages (from scikit-image) (2025.2.18)\n",
      "Requirement already satisfied: packaging>=21 in c:\\users\\au783153\\appdata\\local\\miniconda3\\envs\\plante\\lib\\site-packages (from scikit-image) (24.2)\n",
      "Requirement already satisfied: lazy-loader>=0.4 in c:\\users\\au783153\\appdata\\local\\miniconda3\\envs\\plante\\lib\\site-packages (from scikit-image) (0.4)\n"
     ]
    }
   ],
   "source": [
    "!pip install -U scikit-image\n"
   ]
  },
  {
   "cell_type": "code",
   "execution_count": null,
   "id": "d2b69625",
   "metadata": {},
   "outputs": [],
   "source": [
    "import numpy as np\n",
    "import torch\n",
    "import matplotlib.pyplot as plt\n",
    "from skimage.segmentation import slic, find_boundaries\n",
    "from skimage.io import imread\n",
    "from skimage.color import label2rgb\n",
    "from scipy.ndimage import center_of_mass\n",
    "from torch_geometric.data import Data\n",
    "import argparse\n",
    "import os\n",
    "\n",
    "# Load image from path\n",
    "def load_image_s(image_path):\n",
    "    return imread(image_path)\n",
    "\n",
    "# Generate the superpixel graph\n",
    "def superpixel_graph(image_path, label, n_segments=50, compactness=10):\n",
    "    img = load_image_s(image_path)\n",
    "    labels = slic(img, n_segments=n_segments, compactness=compactness, start_label=0)\n",
    "    num_segments = labels.max() + 1\n",
    "\n",
    "    # Compute node features (average color per superpixel)\n",
    "    avg_colors = np.array([img[labels == i].mean(axis=0) for i in range(num_segments)])\n",
    "    x = torch.tensor(avg_colors, dtype=torch.float)\n",
    "\n",
    "    # Manually find adjacency\n",
    "    adjacency = set()\n",
    "    for y in range(labels.shape[0] - 1):\n",
    "        for x_ in range(labels.shape[1] - 1):\n",
    "            current_label = labels[y, x_]\n",
    "            neighbors = [labels[y + 1, x_], labels[y, x_ + 1]]\n",
    "            for neighbor_label in neighbors:\n",
    "                if current_label != neighbor_label:\n",
    "                    edge = tuple(sorted([current_label, neighbor_label]))\n",
    "                    adjacency.add(edge)\n",
    "\n",
    "    edge_index = torch.tensor(list(adjacency), dtype=torch.long).T\n",
    "\n",
    "    # Edge attributes: color difference\n",
    "    edge_attr = []\n",
    "    for n1, n2 in adjacency:\n",
    "        color_diff = np.linalg.norm(avg_colors[n1] - avg_colors[n2])\n",
    "        edge_attr.append([color_diff])\n",
    "    edge_attr = torch.tensor(edge_attr, dtype=torch.float)\n",
    "\n",
    "    return Data(x=x, edge_index=edge_index, edge_attr=edge_attr, y=torch.tensor([label])), labels, img\n",
    "\n",
    "# Plot the image with graph overlay\n",
    "def show_graph_on_image(image_path, label):\n",
    "    data, labels, img = superpixel_graph(image_path, label)\n",
    "\n",
    "    # Compute centroids of superpixels\n",
    "    centroids = center_of_mass(np.ones_like(labels), labels, range(labels.max() + 1))\n",
    "    centroids = np.array(centroids)\n",
    "\n",
    "    # Plot image with boundaries and graph\n",
    "    plt.figure(figsize=(10, 10))\n",
    "    plt.imshow(label2rgb(labels, img, kind='avg'))\n",
    "\n",
    "    # Plot edges\n",
    "    for i in range(data.edge_index.shape[1]):\n",
    "        n1, n2 = data.edge_index[:, i]\n",
    "        y1, x1 = centroids[n1]\n",
    "        y2, x2 = centroids[n2]\n",
    "        plt.plot([x1, x2], [y1, y2], 'r-', linewidth=1)\n",
    "\n",
    "    # Plot nodes\n",
    "    for y, x in centroids:\n",
    "        plt.plot(x, y, 'bo', markersize=4)\n",
    "\n",
    "    plt.title(\"Superpixel Graph Overlay\")\n",
    "    plt.axis('off')\n",
    "    plt.tight_layout()\n",
    "    plt.show()\n",
    "\n",
    "# Command-line interface\n",
    "if __name__ == \"__main__\":\n",
    "    parser = argparse.ArgumentParser(description=\"Display superpixel graph on image\")\n",
    "    parser.add_argument(\"image_path\", default=r\"D:\\OBM\\CODES\\HeathlandSpeciesClassifier\\dataset\\images\\lidl\\calluna\\im31_63_.1.0.jpg\", type=str, help=\"Path to the input image\")\n",
    "    parser.add_argument(\"--label\", type=int, default=0, help=\"Optional label for the image\")\n",
    "    args = parser.parse_args()\n",
    "\n",
    "    if not os.path.exists(args.image_path):\n",
    "        raise FileNotFoundError(f\"Image not found: {args.image_path}\")\n",
    "\n",
    "    show_graph_on_image(args.image_path, args.label)\n"
   ]
  },
  {
   "cell_type": "code",
   "execution_count": 12,
   "id": "fe8182ae",
   "metadata": {},
   "outputs": [
    {
     "ename": "ImportError",
     "evalue": "cannot import name 'slic' from 'skimage.segmentation' (unknown location)",
     "output_type": "error",
     "traceback": [
      "\u001b[1;31m---------------------------------------------------------------------------\u001b[0m",
      "\u001b[1;31mImportError\u001b[0m                               Traceback (most recent call last)",
      "Cell \u001b[1;32mIn[12], line 1\u001b[0m\n\u001b[1;32m----> 1\u001b[0m \u001b[38;5;28;01mfrom\u001b[39;00m\u001b[38;5;250m \u001b[39m\u001b[38;5;21;01mskimage\u001b[39;00m\u001b[38;5;21;01m.\u001b[39;00m\u001b[38;5;21;01msegmentation\u001b[39;00m\u001b[38;5;250m \u001b[39m\u001b[38;5;28;01mimport\u001b[39;00m slic\n\u001b[0;32m      2\u001b[0m \u001b[38;5;28mprint\u001b[39m(\u001b[38;5;124m\"\u001b[39m\u001b[38;5;124mSLIC import successful\u001b[39m\u001b[38;5;124m\"\u001b[39m)\n",
      "\u001b[1;31mImportError\u001b[0m: cannot import name 'slic' from 'skimage.segmentation' (unknown location)"
     ]
    }
   ],
   "source": [
    "from skimage.segmentation import slic\n",
    "print(\"SLIC import successful\")\n"
   ]
  },
  {
   "cell_type": "code",
   "execution_count": 13,
   "id": "463c51fc",
   "metadata": {},
   "outputs": [
    {
     "name": "stdout",
     "output_type": "stream",
     "text": [
      "Found existing installation: scikit-image 0.19.3\n",
      "Uninstalling scikit-image-0.19.3:\n",
      "  Successfully uninstalled scikit-image-0.19.3\n"
     ]
    }
   ],
   "source": [
    "\n",
    "!pip uninstall -y scikit-image\n"
   ]
  },
  {
   "cell_type": "code",
   "execution_count": 14,
   "id": "d6e7d344",
   "metadata": {},
   "outputs": [
    {
     "name": "stdout",
     "output_type": "stream",
     "text": [
      "Collecting scikit-image\n",
      "  Downloading scikit_image-0.25.2-cp310-cp310-win_amd64.whl.metadata (14 kB)\n",
      "Requirement already satisfied: numpy>=1.24 in c:\\users\\au783153\\appdata\\local\\miniconda3\\envs\\plante\\lib\\site-packages (from scikit-image) (1.26.4)\n",
      "Requirement already satisfied: scipy>=1.11.4 in c:\\users\\au783153\\appdata\\local\\miniconda3\\envs\\plante\\lib\\site-packages (from scikit-image) (1.15.2)\n",
      "Requirement already satisfied: networkx>=3.0 in c:\\users\\au783153\\appdata\\local\\miniconda3\\envs\\plante\\lib\\site-packages (from scikit-image) (3.4.2)\n",
      "Requirement already satisfied: pillow>=10.1 in c:\\users\\au783153\\appdata\\local\\miniconda3\\envs\\plante\\lib\\site-packages (from scikit-image) (11.1.0)\n",
      "Requirement already satisfied: imageio!=2.35.0,>=2.33 in c:\\users\\au783153\\appdata\\local\\miniconda3\\envs\\plante\\lib\\site-packages (from scikit-image) (2.37.0)\n",
      "Requirement already satisfied: tifffile>=2022.8.12 in c:\\users\\au783153\\appdata\\local\\miniconda3\\envs\\plante\\lib\\site-packages (from scikit-image) (2025.2.18)\n",
      "Requirement already satisfied: packaging>=21 in c:\\users\\au783153\\appdata\\local\\miniconda3\\envs\\plante\\lib\\site-packages (from scikit-image) (24.2)\n",
      "Requirement already satisfied: lazy-loader>=0.4 in c:\\users\\au783153\\appdata\\local\\miniconda3\\envs\\plante\\lib\\site-packages (from scikit-image) (0.4)\n",
      "Downloading scikit_image-0.25.2-cp310-cp310-win_amd64.whl (12.8 MB)\n",
      "   ---------------------------------------- 0.0/12.8 MB ? eta -:--:--\n",
      "   ---------------- ----------------------- 5.2/12.8 MB 35.3 MB/s eta 0:00:01\n",
      "   ---------------------------------------- 12.8/12.8 MB 53.4 MB/s eta 0:00:00\n",
      "Installing collected packages: scikit-image\n",
      "Successfully installed scikit-image-0.25.2\n",
      "Note: you may need to restart the kernel to use updated packages.\n"
     ]
    }
   ],
   "source": [
    "pip install --no-cache-dir scikit-image\n"
   ]
  },
  {
   "cell_type": "code",
   "execution_count": null,
   "id": "7200ab92",
   "metadata": {},
   "outputs": [
    {
     "name": "stdout",
     "output_type": "stream",
     "text": [
      "None\n"
     ]
    }
   ],
   "source": [
    "import matplotlib.pyplot as plt\n",
    "from skimage.io import imread\n",
    "from skimage.segmentation import slic, mark_boundaries\n",
    "from skimage.util import img_as_float\n",
    "\n",
    "# Load an image (change the path as needed)\n",
    "image_path = 'your_image.jpg'  # Replace with a real path\n",
    "image = img_as_float(imread(image_path))\n",
    "\n",
    "# Apply SLIC superpixels\n",
    "segments = slic(image, n_segments=100, compactness=10, start_label=0)\n",
    "\n",
    "# Show the image with boundaries\n",
    "fig, ax = plt.subplots(1, 1, figsize=(8, 8))\n",
    "ax.imshow(mark_boundaries(image, segments))\n",
    "ax.set_title('SLIC Superpixels')\n",
    "ax.axis('off')\n",
    "plt.tight_layout()\n",
    "plt.show()\n"
   ]
  },
  {
   "cell_type": "code",
   "execution_count": null,
   "id": "f97f9cf8",
   "metadata": {},
   "outputs": [],
   "source": []
  }
 ],
 "metadata": {
  "kernelspec": {
   "display_name": "plante",
   "language": "python",
   "name": "python3"
  },
  "language_info": {
   "codemirror_mode": {
    "name": "ipython",
    "version": 3
   },
   "file_extension": ".py",
   "mimetype": "text/x-python",
   "name": "python",
   "nbconvert_exporter": "python",
   "pygments_lexer": "ipython3",
   "version": "3.10.16"
  }
 },
 "nbformat": 4,
 "nbformat_minor": 5
}
